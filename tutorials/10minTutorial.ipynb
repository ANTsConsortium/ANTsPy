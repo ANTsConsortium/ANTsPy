{
 "cells": [
  {
   "cell_type": "markdown",
   "metadata": {},
   "source": [
    "# 10 minute ANTsPy tutorial\n",
    "\n",
    "ANTsPy is a Python wrapper for the ANTs neuroimage processing library, along with other pythonic tools that make it easy and fun to work with brain images directly in Python.\n",
    "\n",
    "This tutorial is available at https://github.com/ANTsX/ANTsPy/tree/master/tutorials.\n",
    "\n",
    "First, install ANTsPy. It can be installed from source (takes 30-60min) with the following code:\n",
    "\n",
    "```\n",
    "git clone https://github.com/ANTsX/ANTsPy.git\n",
    "cd ANTsPy\n",
    "python setup.py install\n",
    "```\n",
    "\n",
    "It can also be installed very quickly from pre-made wheels (latest release only available for Mac, but a previous release is available for Linux which should be OK): https://github.com/ANTsX/ANTsPy/releases . Download the .whl file then run the following:\n",
    "```\n",
    "pip install /path/to/file.whl\n",
    "```"
   ]
  },
  {
   "cell_type": "code",
   "execution_count": 7,
   "metadata": {
    "collapsed": true
   },
   "outputs": [],
   "source": [
    "import ants\n",
    "import numpy as np"
   ]
  },
  {
   "cell_type": "markdown",
   "metadata": {},
   "source": [
    "# Image IO\n",
    "\n",
    "Reading and writing images is easy. ANTsPy has some included data which we will use."
   ]
  },
  {
   "cell_type": "code",
   "execution_count": 3,
   "metadata": {},
   "outputs": [
    {
     "name": "stdout",
     "output_type": "stream",
     "text": [
      "/Users/ncullen/.antspy/r16slice.jpg\n"
     ]
    }
   ],
   "source": [
    "fname1 = ants.get_ants_data('r16')\n",
    "fname2 = ants.get_ants_data('r64')\n",
    "print(fname1_2d)"
   ]
  },
  {
   "cell_type": "code",
   "execution_count": 6,
   "metadata": {},
   "outputs": [
    {
     "name": "stdout",
     "output_type": "stream",
     "text": [
      "ANTsImage\n",
      "\t Pixel Type : float (float32)\n",
      "\t Components : 1\n",
      "\t Dimensions : (256, 256)\n",
      "\t Spacing    : (1.0, 1.0)\n",
      "\t Origin     : (0.0, 0.0)\n",
      "\t Direction  : [ 1.  0.  0.  1.]\n",
      "\n"
     ]
    }
   ],
   "source": [
    "img1 = ants.image_read(fname1)\n",
    "img2 = ants.image_read(fname2)\n",
    "print(img1)"
   ]
  },
  {
   "cell_type": "markdown",
   "metadata": {},
   "source": [
    "You can read also convert numpy arrays to ANTsImage types.. Here's an example of an fMRI image (an image with \"components\")"
   ]
  },
  {
   "cell_type": "code",
   "execution_count": 10,
   "metadata": {},
   "outputs": [
    {
     "name": "stdout",
     "output_type": "stream",
     "text": [
      "ANTsImage (RAI)\n",
      "\t Pixel Type : float (float32)\n",
      "\t Components : 10\n",
      "\t Dimensions : (70, 70, 70)\n",
      "\t Spacing    : (1.0, 1.0, 1.0)\n",
      "\t Origin     : (0.0, 0.0, 0.0)\n",
      "\t Direction  : [ 1.  0.  0.  0.  1.  0.  0.  0.  1.]\n",
      "\n"
     ]
    }
   ],
   "source": [
    "arr_4d = np.random.randn(70,70,70,10).astype('float32')\n",
    "img_fmri = ants.from_numpy(arr_4d, has_components=True)\n",
    "print(img_fmri)"
   ]
  },
  {
   "cell_type": "markdown",
   "metadata": {},
   "source": [
    "Once you have an ANTsImage type, it basically acts as a numpy array:"
   ]
  },
  {
   "cell_type": "code",
   "execution_count": 74,
   "metadata": {},
   "outputs": [
    {
     "name": "stdout",
     "output_type": "stream",
     "text": [
      "(2.0, 2.0)\n",
      "(1.0, 1.0)\n"
     ]
    }
   ],
   "source": [
    "# clone\n",
    "img2 = img.clone()\n",
    "\n",
    "# convert to numpy\n",
    "img_arr = img.numpy()\n",
    "\n",
    "# create another image with same properties but different data\n",
    "img2 = img.new_image_like(img_arr*2)\n",
    "\n",
    "# save to file\n",
    "# img.to_file(...)\n",
    "\n",
    "# many useful things:\n",
    "img.median()\n",
    "img.std()\n",
    "img.argmin()\n",
    "img.argmax()\n",
    "img.flatten()\n",
    "img.nonzero()\n",
    "img.unique()\n",
    "\n",
    "# do any operations directly on ANTsImage types\n",
    "img3 = img2 - img\n",
    "img3 = img2 > img\n",
    "img3 = img2 / img\n",
    "img3 = img2 == img\n",
    "\n",
    "\n",
    "# change any physical properties\n",
    "img4 = img.clone()\n",
    "print(img4.spacing)\n",
    "img4.set_spacing((1,1))\n",
    "print(img4.spacing)\n",
    "\n",
    "# test if two images are allclose in values\n",
    "issame = ants.allclose(img,img2)\n",
    "\n",
    "# test if two images have same physical space\n",
    "issame_phys = ants.image_physical_space_consistency(img,img2)\n"
   ]
  },
  {
   "cell_type": "markdown",
   "metadata": {},
   "source": [
    "## Segmentation\n",
    "\n",
    "This module includes Atropos segmentation, Joint Label Fusion, cortical thickness estimation, and prior-based segmentation."
   ]
  },
  {
   "cell_type": "markdown",
   "metadata": {},
   "source": [
    "Atropos segmentation:"
   ]
  },
  {
   "cell_type": "code",
   "execution_count": 28,
   "metadata": {},
   "outputs": [
    {
     "name": "stdout",
     "output_type": "stream",
     "text": [
      "dict_keys(['segmentation', 'probabilityimages'])\n"
     ]
    },
    {
     "data": {
      "image/png": "[encoded data removed]",
      "text/plain": [
       "<matplotlib.figure.Figure at 0x103ddc198>"
      ]
     },
     "metadata": {},
     "output_type": "display_data"
    }
   ],
   "source": [
    "img = ants.image_read(ants.get_ants_data('r16'))\n",
    "img = ants.resample_image(img, (64,64), 1, 0)\n",
    "mask = ants.get_mask(img)\n",
    "img_seg = ants.atropos(a=img, m='[0.2,1x1]', c='[2,0]', \n",
    "                       i='kmeans[3]', x=mask)\n",
    "print(img_seg.keys())\n",
    "ants.plot(img_seg['segmentation'])"
   ]
  },
  {
   "cell_type": "markdown",
   "metadata": {},
   "source": [
    "Cortical thickness:"
   ]
  },
  {
   "cell_type": "code",
   "execution_count": 33,
   "metadata": {},
   "outputs": [
    {
     "name": "stdout",
     "output_type": "stream",
     "text": [
      "ANTsImage\n",
      "\t Pixel Type : float (float32)\n",
      "\t Components : 1\n",
      "\t Dimensions : (64, 64)\n",
      "\t Spacing    : (4.0476, 4.0476)\n",
      "\t Origin     : (0.0, 0.0)\n",
      "\t Direction  : [ 1.  0.  0.  1.]\n",
      "\n"
     ]
    },
    {
     "data": {
      "image/png": "[encoded data removed]",
      "text/plain": [
       "<matplotlib.figure.Figure at 0x103d97e10>"
      ]
     },
     "metadata": {},
     "output_type": "display_data"
    }
   ],
   "source": [
    "img = ants.image_read( ants.get_ants_data('r16') ,2)\n",
    "img = ants.resample_image(img, (64,64),1,0)\n",
    "mask = ants.get_mask( img )\n",
    "segs = ants.kmeans_segmentation( img, k=3, kmask = mask)\n",
    "thickimg = ants.kelly_kapowski(s=segs['segmentation'], g=segs['probabilityimages'][1],\n",
    "                            w=segs['probabilityimages'][2], its=45, \n",
    "                            r=0.5, m=1)\n",
    "print(thickimg)\n",
    "img.plot(overlay=thickimg, overlay_cmap='jet')"
   ]
  },
  {
   "cell_type": "markdown",
   "metadata": {},
   "source": [
    "## Registration\n",
    "\n",
    "This module includes the main ANTs registration interface, from which all registration algorithms can be run - along with various functions for evaluating registration algorithms or resampling/reorienting images or applying specific transformations to images."
   ]
  },
  {
   "cell_type": "markdown",
   "metadata": {},
   "source": [
    "SyN registration:"
   ]
  },
  {
   "cell_type": "code",
   "execution_count": 43,
   "metadata": {},
   "outputs": [
    {
     "data": {
      "image/png": "[encoded data removed]",
      "text/plain": [
       "<matplotlib.figure.Figure at 0x13521e9e8>"
      ]
     },
     "metadata": {},
     "output_type": "display_data"
    },
    {
     "name": "stdout",
     "output_type": "stream",
     "text": [
      "{'warpedmovout': ANTsImage\n",
      "\t Pixel Type : float (float32)\n",
      "\t Components : 1\n",
      "\t Dimensions : (64, 64)\n",
      "\t Spacing    : (4.0476, 4.0476)\n",
      "\t Origin     : (0.0, 0.0)\n",
      "\t Direction  : [ 1.  0.  0.  1.]\n",
      ", 'warpedfixout': ANTsImage\n",
      "\t Pixel Type : float (float32)\n",
      "\t Components : 1\n",
      "\t Dimensions : (64, 64)\n",
      "\t Spacing    : (4.0476, 4.0476)\n",
      "\t Origin     : (0.0, 0.0)\n",
      "\t Direction  : [ 1.  0.  0.  1.]\n",
      ", 'fwdtransforms': ['/var/folders/__/v7ryn14n0x749jd36ttj_s380000gp/T/tmp33dphmmn1Warp.nii.gz', '/var/folders/__/v7ryn14n0x749jd36ttj_s380000gp/T/tmp33dphmmn0GenericAffine.mat'], 'invtransforms': ['/var/folders/__/v7ryn14n0x749jd36ttj_s380000gp/T/tmp33dphmmn0GenericAffine.mat', '/var/folders/__/v7ryn14n0x749jd36ttj_s380000gp/T/tmp33dphmmn1InverseWarp.nii.gz']}\n"
     ]
    },
    {
     "data": {
      "image/png": "[encoded data removed]",
      "text/plain": [
       "<matplotlib.figure.Figure at 0x134a76c88>"
      ]
     },
     "metadata": {},
     "output_type": "display_data"
    }
   ],
   "source": [
    "fixed = ants.image_read( ants.get_ants_data('r16') ).resample_image((64,64),1,0)\n",
    "moving = ants.image_read( ants.get_ants_data('r64') ).resample_image((64,64),1,0)\n",
    "fixed.plot(overlay=moving, title='Before Registration')\n",
    "mytx = ants.registration(fixed=fixed , moving=moving, type_of_transform='SyN' )\n",
    "print(mytx)\n",
    "warped_moving = mytx['warpedmovout']\n",
    "fixed.plot(overlay=warped_moving,\n",
    "           title='After Registration')"
   ]
  },
  {
   "cell_type": "markdown",
   "metadata": {},
   "source": [
    "You can also use the transforms output from registration and apply them directly to the image:"
   ]
  },
  {
   "cell_type": "code",
   "execution_count": 44,
   "metadata": {},
   "outputs": [
    {
     "data": {
      "image/png": "[encoded data removed]",
      "text/plain": [
       "<matplotlib.figure.Figure at 0x1351d7eb8>"
      ]
     },
     "metadata": {},
     "output_type": "display_data"
    }
   ],
   "source": [
    "mywarpedimage = ants.apply_transforms(fixed=fixed, moving=moving,\n",
    "                                      transformlist=mytx['fwdtransforms'])\n",
    "\n",
    "mywarpedimage.plot()"
   ]
  },
  {
   "cell_type": "markdown",
   "metadata": {},
   "source": [
    "## Other utilities"
   ]
  },
  {
   "cell_type": "markdown",
   "metadata": {},
   "source": [
    "N3 and N4 bias correction:"
   ]
  },
  {
   "cell_type": "code",
   "execution_count": 55,
   "metadata": {},
   "outputs": [],
   "source": [
    "image = ants.image_read( ants.get_ants_data('r16') )\n",
    "image_n4 = ants.n4_bias_field_correction(image)"
   ]
  },
  {
   "cell_type": "markdown",
   "metadata": {},
   "source": [
    "Move to & from nibabel images with `ants.to_nibabel()` and `ants.from_nibabel()`"
   ]
  },
  {
   "cell_type": "code",
   "execution_count": null,
   "metadata": {
    "collapsed": true
   },
   "outputs": [],
   "source": []
  }
 ],
 "metadata": {
  "kernelspec": {
   "display_name": "Python 3",
   "language": "python",
   "name": "python3"
  },
  "language_info": {
   "codemirror_mode": {
    "name": "ipython",
    "version": 3
   },
   "file_extension": ".py",
   "mimetype": "text/x-python",
   "name": "python",
   "nbconvert_exporter": "python",
   "pygments_lexer": "ipython3",
   "version": "3.6.0"
  }
 },
 "nbformat": 4,
 "nbformat_minor": 2
}

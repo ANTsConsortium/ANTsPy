{
 "cells": [
  {
   "cell_type": "markdown",
   "metadata": {},
   "source": [
    "ANTsPy and ANTsR inherit the ability to do multi-metric registration.\n",
    "\n",
    "Such registrations assume that the feature images are in the same physical space and at least roughly aligned.\n",
    "\n",
    "One may then use registration to optimize a multiple similarity metric objective function as in:\n",
    "\n",
    "https://doi.org/10.3389/fninf.2014.00044\n",
    "\n",
    "https://www.ncbi.nlm.nih.gov/pubmed/18995188\n",
    "\n",
    "First, import ants, read some images and create some features."
   ]
  },
  {
   "cell_type": "code",
   "execution_count": 1,
   "metadata": {},
   "outputs": [],
   "source": [
    "import ants\n",
    "image = ants.image_read(ants.get_ants_data('r16'))\n",
    "image2 = ants.image_read(ants.get_ants_data('r27'))\n",
    "g1 = ants.iMath_grad( image )\n",
    "g2 = ants.iMath_grad( image2 )"
   ]
  },
  {
   "cell_type": "markdown",
   "metadata": {},
   "source": [
    "Perform a baseline registration with a single feature and create a couple of new metrics."
   ]
  },
  {
   "cell_type": "code",
   "execution_count": 2,
   "metadata": {},
   "outputs": [],
   "source": [
    "reg1 = ants.registration( image, image2, 'SyNOnly' )\n",
    "demonsMetric = ['demons', g1, g2, 1, 1]\n",
    "ccMetric = ['CC', image, image2, 2, 1 ]"
   ]
  },
  {
   "cell_type": "code",
   "execution_count": null,
   "metadata": {},
   "outputs": [],
   "source": []
  }
 ],
 "metadata": {
  "kernelspec": {
   "display_name": "Python 3",
   "language": "python",
   "name": "python3"
  },
  "language_info": {
   "codemirror_mode": {
    "name": "ipython",
    "version": 3
   },
   "file_extension": ".py",
   "mimetype": "text/x-python",
   "name": "python",
   "nbconvert_exporter": "python",
   "pygments_lexer": "ipython3",
   "version": "3.6.5"
  }
 },
 "nbformat": 4,
 "nbformat_minor": 2
}
